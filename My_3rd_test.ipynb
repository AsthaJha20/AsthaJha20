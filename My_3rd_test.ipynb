{
  "nbformat": 4,
  "nbformat_minor": 0,
  "metadata": {
    "colab": {
      "provenance": []
    },
    "kernelspec": {
      "name": "python3",
      "display_name": "Python 3"
    },
    "language_info": {
      "name": "python"
    }
  },
  "cells": [
    {
      "cell_type": "code",
      "execution_count": 1,
      "metadata": {
        "colab": {
          "base_uri": "https://localhost:8080/"
        },
        "id": "gAX7CUeyH6n2",
        "outputId": "7bca6e78-b0b3-4e63-a9b7-c30e43097a7f"
      },
      "outputs": [
        {
          "output_type": "stream",
          "name": "stdout",
          "text": [
            "8\n"
          ]
        }
      ],
      "source": [
        "# THOERY ANSWERS:-\n",
        "#Ans1. A Function is a block of reusable code that is defined outside any class.\n",
        "# Example of Function:\n",
        "def add(x,y):\n",
        "  return(x+y)\n",
        "result=add(3,5)\n",
        "print(result)\n",
        "\n"
      ]
    },
    {
      "cell_type": "code",
      "source": [
        "# A Method is a function that is associated with an object or a class and is called on instances of that class.\n",
        "# Example of Method:\n",
        "class Calculator:\n",
        "  def add(self,x,y):\n",
        "    return x+y\n",
        "calc = Calculator()\n",
        "result = calc.add(3,5)\n",
        "print(result)"
      ],
      "metadata": {
        "colab": {
          "base_uri": "https://localhost:8080/"
        },
        "id": "Qls2LkzUKcdW",
        "outputId": "5891e0c8-9924-4629-98da-4add92d8b615"
      },
      "execution_count": 17,
      "outputs": [
        {
          "output_type": "stream",
          "name": "stdout",
          "text": [
            "8\n"
          ]
        }
      ]
    },
    {
      "cell_type": "code",
      "source": [
        "# Ans2. Parameters are variables in the function definition, and arguments are the values you pass to the function when calling it.\n",
        "# Example:\n",
        "def greet(name):\n",
        "  print(\"Hello, \"+name)\n",
        "greet(\"Astha\")"
      ],
      "metadata": {
        "colab": {
          "base_uri": "https://localhost:8080/"
        },
        "id": "UG84pHkONe7O",
        "outputId": "039943bf-1896-41b9-d7e8-93fb1dd7c3ad"
      },
      "execution_count": 18,
      "outputs": [
        {
          "output_type": "stream",
          "name": "stdout",
          "text": [
            "Hello, Astha\n"
          ]
        }
      ]
    },
    {
      "cell_type": "code",
      "source": [
        "# Ans3. You can define a function using the def keyword or use a lambda expression for anonymous functions.\n",
        "# You call a function by using its name followed by parenthesis().\n",
        "# Example of a regular Function:\n",
        "def greet():\n",
        "  print(\"Hello!\")\n",
        "greet()"
      ],
      "metadata": {
        "colab": {
          "base_uri": "https://localhost:8080/"
        },
        "id": "ntujKe43ONZt",
        "outputId": "47cb6fbc-b965-4c15-8818-648725bd39e6"
      },
      "execution_count": 19,
      "outputs": [
        {
          "output_type": "stream",
          "name": "stdout",
          "text": [
            "Hello!\n"
          ]
        }
      ]
    },
    {
      "cell_type": "code",
      "source": [
        "# Example of Lambda Function:\n",
        "multiply = lambda x,y: x*y\n",
        "print(multiply(3,4))"
      ],
      "metadata": {
        "colab": {
          "base_uri": "https://localhost:8080/"
        },
        "id": "1hwBUoCvPSJI",
        "outputId": "1edf89fd-9b5e-4eb1-8fce-61c93dadacd0"
      },
      "execution_count": 20,
      "outputs": [
        {
          "output_type": "stream",
          "name": "stdout",
          "text": [
            "12\n"
          ]
        }
      ]
    },
    {
      "cell_type": "code",
      "source": [
        "# Ans4. The return statement is used to exit a function and pass a value back to the the caller.\n",
        "# Example:\n",
        "def add(x,y):\n",
        "  return x+y\n",
        "result = add(3,5)\n",
        "print(result)\n"
      ],
      "metadata": {
        "colab": {
          "base_uri": "https://localhost:8080/"
        },
        "id": "0pBvDCbcPn-a",
        "outputId": "38976635-ea57-49d4-e647-5196b1469599"
      },
      "execution_count": 21,
      "outputs": [
        {
          "output_type": "stream",
          "name": "stdout",
          "text": [
            "8\n"
          ]
        }
      ]
    },
    {
      "cell_type": "code",
      "source": [
        "# Ans5.An iterable is any Python object capable of returning its members one at a time, such as lists, tuples etc.\n",
        "# Example:\n",
        "my_list = [1,2,3]\n"
      ],
      "metadata": {
        "id": "mcpThTfEQO7Y"
      },
      "execution_count": 23,
      "outputs": []
    },
    {
      "cell_type": "code",
      "source": [
        "# An iterator is an object that keeps track of the current position in the iterable and allows iteration over it.\n",
        "# Example:\n",
        "my_iter = iter(my_list)\n",
        "print(next(my_iter))\n",
        "print(next(my_iter))\n",
        "print(next(my_iter))\n",
        "\n"
      ],
      "metadata": {
        "colab": {
          "base_uri": "https://localhost:8080/"
        },
        "id": "dBKf74YHXax-",
        "outputId": "74552be7-bb8d-4fcf-d001-e2831a2aafb6"
      },
      "execution_count": 30,
      "outputs": [
        {
          "output_type": "stream",
          "name": "stdout",
          "text": [
            "1\n",
            "2\n",
            "3\n"
          ]
        }
      ]
    },
    {
      "cell_type": "code",
      "source": [
        "# Ans6. Generators are special types of iterators that allow you to iterate over data lazily. They are defined using the yield keyword inside a function.\n",
        "# Example:\n",
        "def count_up_to(limit):\n",
        "  count=1\n",
        "  while count<=limit:\n",
        "    yield count\n",
        "    count+=1\n",
        "counter = count_up_to(3)\n",
        "for number in counter:\n",
        "  print(number)"
      ],
      "metadata": {
        "colab": {
          "base_uri": "https://localhost:8080/"
        },
        "id": "0jf76uknXva_",
        "outputId": "17e7b920-5466-4d55-efb1-1b52d76c6ca6"
      },
      "execution_count": 31,
      "outputs": [
        {
          "output_type": "stream",
          "name": "stdout",
          "text": [
            "1\n",
            "2\n",
            "3\n"
          ]
        }
      ]
    },
    {
      "cell_type": "code",
      "source": [
        "# Ans7. Generators are more memory-efficient because they generate items one at a time using yield and do not store the entire list in memory, unlike regular functions that return\n",
        "# the entire result at once."
      ],
      "metadata": {
        "id": "IyZZ-DpwZx6f"
      },
      "execution_count": 32,
      "outputs": []
    },
    {
      "cell_type": "code",
      "source": [
        "# Ans8. A lambda function is an anonymous, small function defined using the lambda keyword. It is used for short, simple operations where defining a full function is unnecessary.\n",
        "# Example:\n",
        "square = lambda x: x**2\n",
        "print(square(5))"
      ],
      "metadata": {
        "colab": {
          "base_uri": "https://localhost:8080/"
        },
        "id": "9xBT08eqaXYP",
        "outputId": "f68e4559-11f0-483f-a136-61900362c5b0"
      },
      "execution_count": 33,
      "outputs": [
        {
          "output_type": "stream",
          "name": "stdout",
          "text": [
            "25\n"
          ]
        }
      ]
    },
    {
      "cell_type": "code",
      "source": [
        "# Ans9. The map() function applies a given function to all items in an input list(or other iterable) and returns a map object(which is an iterator).\n",
        "# Example:\n",
        "numbers=[1,2,3,4]\n",
        "squared = map(lambda x: x**2,numbers)\n",
        "print(list(squared))"
      ],
      "metadata": {
        "colab": {
          "base_uri": "https://localhost:8080/"
        },
        "id": "1Pt4esoNbBS3",
        "outputId": "70180c05-697b-49d5-f1a2-e7ba941c5e6f"
      },
      "execution_count": 35,
      "outputs": [
        {
          "output_type": "stream",
          "name": "stdout",
          "text": [
            "[1, 4, 9, 16]\n"
          ]
        }
      ]
    },
    {
      "cell_type": "markdown",
      "source": [],
      "metadata": {
        "id": "XKawDq09c-li"
      }
    },
    {
      "cell_type": "code",
      "source": [
        "# Ans10. * map(): Applies a function to every item in an iterable and returns an iterator.\n",
        "# Example:\n",
        "numbers = [1,2,3]\n",
        "result = map(lambda x: x+1,numbers)\n",
        "print(list(result))"
      ],
      "metadata": {
        "colab": {
          "base_uri": "https://localhost:8080/"
        },
        "id": "W7tEMjLjbiDB",
        "outputId": "7b9238e1-da98-46b3-fd0a-be221373d35c"
      },
      "execution_count": 39,
      "outputs": [
        {
          "output_type": "stream",
          "name": "stdout",
          "text": [
            "[2, 3, 4]\n"
          ]
        }
      ]
    },
    {
      "cell_type": "code",
      "source": [
        "# * filters(): Filters elements in an iterable based on a condition, returning only the elements that satisfy the condition.\n",
        "# Example:\n",
        "numbers=[1,2,3,4]\n",
        "result = filter(lambda x: x%2==0, numbers)\n",
        "print(list(result))"
      ],
      "metadata": {
        "colab": {
          "base_uri": "https://localhost:8080/"
        },
        "id": "96nl1s3Zctjj",
        "outputId": "b49cede5-019c-4e2b-de3b-acae9d9b9772"
      },
      "execution_count": 41,
      "outputs": [
        {
          "output_type": "stream",
          "name": "stdout",
          "text": [
            "[2, 4]\n"
          ]
        }
      ]
    },
    {
      "cell_type": "code",
      "source": [
        "# * reduce(): Performs a rolling computation on an iterable, using a binary function (often from the functools module).\n",
        "# Example:\n",
        "from functools import reduce\n",
        "Snumbers = [1, 2, 3, 4]\n",
        "result = reduce(lambda x, y: x + y, numbers)\n",
        "print(result)"
      ],
      "metadata": {
        "colab": {
          "base_uri": "https://localhost:8080/"
        },
        "id": "h_o36oTsd-P5",
        "outputId": "697cded9-200c-453d-91b7-c40c21ace5f1"
      },
      "execution_count": 52,
      "outputs": [
        {
          "output_type": "stream",
          "name": "stdout",
          "text": [
            "10\n"
          ]
        }
      ]
    },
    {
      "cell_type": "code",
      "source": [
        "# PRACTICAL ANSWERS:-\n",
        "#Ans1. sum of all even numbers in a list:\n",
        "def sum_of_even_numbers(numbers):\n",
        "    return sum(num for num in numbers if num % 2 == 0)\n",
        "numbers = [1, 2, 3, 4, 5, 6]\n",
        "print(sum_of_even_numbers(numbers))"
      ],
      "metadata": {
        "colab": {
          "base_uri": "https://localhost:8080/"
        },
        "id": "8oPkaEjKvLpE",
        "outputId": "7294bc2f-20da-4d48-dfe4-d4e28a1f5b38"
      },
      "execution_count": 60,
      "outputs": [
        {
          "output_type": "stream",
          "name": "stdout",
          "text": [
            "12\n"
          ]
        }
      ]
    },
    {
      "cell_type": "code",
      "source": [
        "# Ans2.\n",
        "def reverse_string(s):\n",
        "    return s[::-1]\n",
        "s = \"hello\"\n",
        "print(reverse_string(s))"
      ],
      "metadata": {
        "colab": {
          "base_uri": "https://localhost:8080/"
        },
        "id": "r4_tTM6LwV7C",
        "outputId": "c2d8bbef-81fa-4161-ac6a-67df505fdf75"
      },
      "execution_count": 62,
      "outputs": [
        {
          "output_type": "stream",
          "name": "stdout",
          "text": [
            "olleh\n"
          ]
        }
      ]
    },
    {
      "cell_type": "code",
      "source": [
        "# Ans3.\n",
        "def square_numbers(numbers):\n",
        "    return [num ** 2 for num in numbers]\n",
        "numbers = [1, 2, 3, 4]\n",
        "print(square_numbers(numbers))\n"
      ],
      "metadata": {
        "colab": {
          "base_uri": "https://localhost:8080/"
        },
        "id": "2hIGpG-ZwqCc",
        "outputId": "7fe1270d-c2e8-4295-e39e-d529887b67ea"
      },
      "execution_count": 63,
      "outputs": [
        {
          "output_type": "stream",
          "name": "stdout",
          "text": [
            "[1, 4, 9, 16]\n"
          ]
        }
      ]
    },
    {
      "cell_type": "code",
      "source": [
        "# Ans4.\n",
        "def is_prime(num):\n",
        "    if num < 2:\n",
        "        return False\n",
        "    for i in range(2, int(num ** 0.5) + 1):\n",
        "        if num % i == 0:\n",
        "            return False\n",
        "    return True\n",
        "for num in range(1, 201):\n",
        "    if is_prime(num):\n",
        "        print(num, end=' ')"
      ],
      "metadata": {
        "colab": {
          "base_uri": "https://localhost:8080/"
        },
        "id": "konwI_4vxBvB",
        "outputId": "d0baa37b-c417-4750-83ab-45df78048227"
      },
      "execution_count": 64,
      "outputs": [
        {
          "output_type": "stream",
          "name": "stdout",
          "text": [
            "2 3 5 7 11 13 17 19 23 29 31 37 41 43 47 53 59 61 67 71 73 79 83 89 97 101 103 107 109 113 127 131 137 139 149 151 157 163 167 173 179 181 191 193 197 199 "
          ]
        }
      ]
    },
    {
      "cell_type": "code",
      "source": [
        "# Ans5.\n",
        "class FibonacciIterator:\n",
        "    def _init_(self, terms):\n",
        "        self.terms = terms\n",
        "        self.a, self.b = 0, 1\n",
        "        self.count = 0\n",
        "\n",
        "    def _iter_(self):\n",
        "        return self\n",
        "\n",
        "    def _next_(self):\n",
        "        if self.count < self.terms:\n",
        "            value = self.a\n",
        "            self.a, self.b = self.b, self.a + self.b\n",
        "            self.count += 1\n",
        "            return value\n",
        "        else:\n",
        "            raise StopIteration\n",
        "fibonacci=FibonacciIterator(10)\n",
        "for num in fibonacci:\n",
        "  print(num, end=' ')"
      ],
      "metadata": {
        "colab": {
          "base_uri": "https://localhost:8080/",
          "height": 219
        },
        "id": "w_5UYGntxLl7",
        "outputId": "64d93a0c-b6de-4f12-c050-476e60d23363"
      },
      "execution_count": 87,
      "outputs": [
        {
          "output_type": "error",
          "ename": "TypeError",
          "evalue": "FibonacciIterator() takes no arguments",
          "traceback": [
            "\u001b[0;31m---------------------------------------------------------------------------\u001b[0m",
            "\u001b[0;31mTypeError\u001b[0m                                 Traceback (most recent call last)",
            "\u001b[0;32m<ipython-input-87-5474aebc738f>\u001b[0m in \u001b[0;36m<cell line: 19>\u001b[0;34m()\u001b[0m\n\u001b[1;32m     17\u001b[0m         \u001b[0;32melse\u001b[0m\u001b[0;34m:\u001b[0m\u001b[0;34m\u001b[0m\u001b[0;34m\u001b[0m\u001b[0m\n\u001b[1;32m     18\u001b[0m             \u001b[0;32mraise\u001b[0m \u001b[0mStopIteration\u001b[0m\u001b[0;34m\u001b[0m\u001b[0;34m\u001b[0m\u001b[0m\n\u001b[0;32m---> 19\u001b[0;31m \u001b[0mfibonacci\u001b[0m\u001b[0;34m=\u001b[0m\u001b[0mFibonacciIterator\u001b[0m\u001b[0;34m(\u001b[0m\u001b[0;36m10\u001b[0m\u001b[0;34m)\u001b[0m\u001b[0;34m\u001b[0m\u001b[0;34m\u001b[0m\u001b[0m\n\u001b[0m\u001b[1;32m     20\u001b[0m \u001b[0;32mfor\u001b[0m \u001b[0mnum\u001b[0m \u001b[0;32min\u001b[0m \u001b[0mfibonacci\u001b[0m\u001b[0;34m:\u001b[0m\u001b[0;34m\u001b[0m\u001b[0;34m\u001b[0m\u001b[0m\n\u001b[1;32m     21\u001b[0m   \u001b[0mprint\u001b[0m\u001b[0;34m(\u001b[0m\u001b[0mnum\u001b[0m\u001b[0;34m,\u001b[0m \u001b[0mend\u001b[0m\u001b[0;34m=\u001b[0m\u001b[0;34m' '\u001b[0m\u001b[0;34m)\u001b[0m\u001b[0;34m\u001b[0m\u001b[0;34m\u001b[0m\u001b[0m\n",
            "\u001b[0;31mTypeError\u001b[0m: FibonacciIterator() takes no arguments"
          ]
        }
      ]
    },
    {
      "cell_type": "code",
      "source": [
        "# Ans6.\n",
        "def powers_of_two(exponent):\n",
        "    for i in range(exponent + 1):\n",
        "        yield 2 ** i\n",
        "for power in powers_of_two(5):\n",
        "    print(power, end=' ')"
      ],
      "metadata": {
        "colab": {
          "base_uri": "https://localhost:8080/"
        },
        "id": "xXdEaEqSx75a",
        "outputId": "546e41a0-cdc9-4059-a976-746a1326619e"
      },
      "execution_count": 80,
      "outputs": [
        {
          "output_type": "stream",
          "name": "stdout",
          "text": [
            "1 2 4 8 16 32 "
          ]
        }
      ]
    },
    {
      "cell_type": "code",
      "source": [
        "# Ans7.\n",
        "def read_file_line_by_line(file_path):\n",
        "   with open(file_path, 'sample.txt') as file:\n",
        "        for line in file:\n",
        "            yield line.strip()\n",
        "for line in read_file_line_by_line('sample.txt'):\n",
        "    print(line)"
      ],
      "metadata": {
        "id": "P8sbhjZ3zDgW"
      },
      "execution_count": null,
      "outputs": []
    },
    {
      "cell_type": "code",
      "source": [
        "# Ans8.\n",
        "data = [(1, 'a'), (3, 'c'), (2, 'b')]\n",
        "\n",
        "sorted_data = sorted(data, key=lambda x: x[1])\n",
        "print(sorted_data)"
      ],
      "metadata": {
        "colab": {
          "base_uri": "https://localhost:8080/"
        },
        "id": "Xm5Z8dNbzHn1",
        "outputId": "b0d56585-b9a4-4c13-f677-943601c310a7"
      },
      "execution_count": 88,
      "outputs": [
        {
          "output_type": "stream",
          "name": "stdout",
          "text": [
            "[(1, 'a'), (2, 'b'), (3, 'c')]\n"
          ]
        }
      ]
    },
    {
      "cell_type": "code",
      "source": [
        "# Ans.9\n",
        "def celsius_to_fahrenheit(celsius):\n",
        "    return (celsius * 9/5) + 32\n",
        "celsius_temps = [0, 20, 100]\n",
        "fahrenheit_temps = list(map(celsius_to_fahrenheit, celsius_temps))\n",
        "\n",
        "print(fahrenheit_temps)"
      ],
      "metadata": {
        "colab": {
          "base_uri": "https://localhost:8080/"
        },
        "id": "7ke7Sbfd0H1M",
        "outputId": "17f375f5-0f3a-4d1b-e0fd-e20a48320e5c"
      },
      "execution_count": 89,
      "outputs": [
        {
          "output_type": "stream",
          "name": "stdout",
          "text": [
            "[32.0, 68.0, 212.0]\n"
          ]
        }
      ]
    },
    {
      "cell_type": "code",
      "source": [
        "# Ans10.\n",
        "def remove_vowels(s):\n",
        "    return ''.join(filter(lambda x: x.lower() not in 'aeiou', s))\n",
        "\n",
        "# Example usage\n",
        "input_string = \"Hello World\"\n",
        "output_string = remove_vowels(input_string)\n",
        "\n",
        "print(output_string)"
      ],
      "metadata": {
        "colab": {
          "base_uri": "https://localhost:8080/"
        },
        "id": "4sztvLo60QuA",
        "outputId": "6aae92da-a03c-42bf-a865-f79c6d9393c9"
      },
      "execution_count": 90,
      "outputs": [
        {
          "output_type": "stream",
          "name": "stdout",
          "text": [
            "Hll Wrld\n"
          ]
        }
      ]
    },
    {
      "cell_type": "code",
      "source": [
        "git remote add origin https://github.com/AsthaJha20/AsthaJha20.git\n",
        "git branch -M main\n",
        "git push -u origin main"
      ],
      "metadata": {
        "colab": {
          "base_uri": "https://localhost:8080/",
          "height": 110
        },
        "id": "GfFArnxf0XsH",
        "outputId": "6742fa90-10fc-4a2c-c730-04ebbdaeacd4"
      },
      "execution_count": 91,
      "outputs": [
        {
          "output_type": "error",
          "ename": "SyntaxError",
          "evalue": "invalid syntax (<ipython-input-91-9ebcae87d26a>, line 1)",
          "traceback": [
            "\u001b[0;36m  File \u001b[0;32m\"<ipython-input-91-9ebcae87d26a>\"\u001b[0;36m, line \u001b[0;32m1\u001b[0m\n\u001b[0;31m    git remote add origin https://github.com/AsthaJha20/AsthaJha20.git\u001b[0m\n\u001b[0m        ^\u001b[0m\n\u001b[0;31mSyntaxError\u001b[0m\u001b[0;31m:\u001b[0m invalid syntax\n"
          ]
        }
      ]
    },
    {
      "cell_type": "code",
      "source": [],
      "metadata": {
        "id": "ilD7rhPg8Bsl"
      },
      "execution_count": null,
      "outputs": []
    }
  ]
}